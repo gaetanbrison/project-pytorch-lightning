{
  "nbformat": 4,
  "nbformat_minor": 0,
  "metadata": {
    "colab": {
      "provenance": []
    },
    "kernelspec": {
      "name": "python3",
      "display_name": "Python 3"
    },
    "language_info": {
      "name": "python"
    },
    "widgets": {
      "application/vnd.jupyter.widget-state+json": {
        "a158df27d5a745c7a54d17f1d0188055": {
          "model_module": "@jupyter-widgets/controls",
          "model_name": "HBoxModel",
          "model_module_version": "1.5.0",
          "state": {
            "_dom_classes": [],
            "_model_module": "@jupyter-widgets/controls",
            "_model_module_version": "1.5.0",
            "_model_name": "HBoxModel",
            "_view_count": null,
            "_view_module": "@jupyter-widgets/controls",
            "_view_module_version": "1.5.0",
            "_view_name": "HBoxView",
            "box_style": "",
            "children": [
              "IPY_MODEL_18f82aba0dd940d9ade8502c4aa0825d",
              "IPY_MODEL_46d29ca58a444cf681f358b7c21cbcee",
              "IPY_MODEL_23b5b06785db44029c0791136d093449"
            ],
            "layout": "IPY_MODEL_f1c68223b6164162a387ea128d3ead71"
          }
        },
        "18f82aba0dd940d9ade8502c4aa0825d": {
          "model_module": "@jupyter-widgets/controls",
          "model_name": "HTMLModel",
          "model_module_version": "1.5.0",
          "state": {
            "_dom_classes": [],
            "_model_module": "@jupyter-widgets/controls",
            "_model_module_version": "1.5.0",
            "_model_name": "HTMLModel",
            "_view_count": null,
            "_view_module": "@jupyter-widgets/controls",
            "_view_module_version": "1.5.0",
            "_view_name": "HTMLView",
            "description": "",
            "description_tooltip": null,
            "layout": "IPY_MODEL_1c8f008dd41b49e3918c8e70d9ce62b4",
            "placeholder": "​",
            "style": "IPY_MODEL_10609142fc6f48878f05f8a61705b859",
            "value": "Epoch 499: 100%"
          }
        },
        "46d29ca58a444cf681f358b7c21cbcee": {
          "model_module": "@jupyter-widgets/controls",
          "model_name": "FloatProgressModel",
          "model_module_version": "1.5.0",
          "state": {
            "_dom_classes": [],
            "_model_module": "@jupyter-widgets/controls",
            "_model_module_version": "1.5.0",
            "_model_name": "FloatProgressModel",
            "_view_count": null,
            "_view_module": "@jupyter-widgets/controls",
            "_view_module_version": "1.5.0",
            "_view_name": "ProgressView",
            "bar_style": "success",
            "description": "",
            "description_tooltip": null,
            "layout": "IPY_MODEL_1b59563752d44758ae961e5291fdbb40",
            "max": 1,
            "min": 0,
            "orientation": "horizontal",
            "style": "IPY_MODEL_4cba0159a45e43be85e698210c811883",
            "value": 1
          }
        },
        "23b5b06785db44029c0791136d093449": {
          "model_module": "@jupyter-widgets/controls",
          "model_name": "HTMLModel",
          "model_module_version": "1.5.0",
          "state": {
            "_dom_classes": [],
            "_model_module": "@jupyter-widgets/controls",
            "_model_module_version": "1.5.0",
            "_model_name": "HTMLModel",
            "_view_count": null,
            "_view_module": "@jupyter-widgets/controls",
            "_view_module_version": "1.5.0",
            "_view_name": "HTMLView",
            "description": "",
            "description_tooltip": null,
            "layout": "IPY_MODEL_3f5c2724a2314d5ab8074163129e50a8",
            "placeholder": "​",
            "style": "IPY_MODEL_cab5de185d554ab1be0d018b077291f8",
            "value": " 1/1 [00:00&lt;00:00, 45.46it/s, loss=4.53e-09, v_num=0]"
          }
        },
        "f1c68223b6164162a387ea128d3ead71": {
          "model_module": "@jupyter-widgets/base",
          "model_name": "LayoutModel",
          "model_module_version": "1.2.0",
          "state": {
            "_model_module": "@jupyter-widgets/base",
            "_model_module_version": "1.2.0",
            "_model_name": "LayoutModel",
            "_view_count": null,
            "_view_module": "@jupyter-widgets/base",
            "_view_module_version": "1.2.0",
            "_view_name": "LayoutView",
            "align_content": null,
            "align_items": null,
            "align_self": null,
            "border": null,
            "bottom": null,
            "display": "inline-flex",
            "flex": null,
            "flex_flow": "row wrap",
            "grid_area": null,
            "grid_auto_columns": null,
            "grid_auto_flow": null,
            "grid_auto_rows": null,
            "grid_column": null,
            "grid_gap": null,
            "grid_row": null,
            "grid_template_areas": null,
            "grid_template_columns": null,
            "grid_template_rows": null,
            "height": null,
            "justify_content": null,
            "justify_items": null,
            "left": null,
            "margin": null,
            "max_height": null,
            "max_width": null,
            "min_height": null,
            "min_width": null,
            "object_fit": null,
            "object_position": null,
            "order": null,
            "overflow": null,
            "overflow_x": null,
            "overflow_y": null,
            "padding": null,
            "right": null,
            "top": null,
            "visibility": null,
            "width": "100%"
          }
        },
        "1c8f008dd41b49e3918c8e70d9ce62b4": {
          "model_module": "@jupyter-widgets/base",
          "model_name": "LayoutModel",
          "model_module_version": "1.2.0",
          "state": {
            "_model_module": "@jupyter-widgets/base",
            "_model_module_version": "1.2.0",
            "_model_name": "LayoutModel",
            "_view_count": null,
            "_view_module": "@jupyter-widgets/base",
            "_view_module_version": "1.2.0",
            "_view_name": "LayoutView",
            "align_content": null,
            "align_items": null,
            "align_self": null,
            "border": null,
            "bottom": null,
            "display": null,
            "flex": null,
            "flex_flow": null,
            "grid_area": null,
            "grid_auto_columns": null,
            "grid_auto_flow": null,
            "grid_auto_rows": null,
            "grid_column": null,
            "grid_gap": null,
            "grid_row": null,
            "grid_template_areas": null,
            "grid_template_columns": null,
            "grid_template_rows": null,
            "height": null,
            "justify_content": null,
            "justify_items": null,
            "left": null,
            "margin": null,
            "max_height": null,
            "max_width": null,
            "min_height": null,
            "min_width": null,
            "object_fit": null,
            "object_position": null,
            "order": null,
            "overflow": null,
            "overflow_x": null,
            "overflow_y": null,
            "padding": null,
            "right": null,
            "top": null,
            "visibility": null,
            "width": null
          }
        },
        "10609142fc6f48878f05f8a61705b859": {
          "model_module": "@jupyter-widgets/controls",
          "model_name": "DescriptionStyleModel",
          "model_module_version": "1.5.0",
          "state": {
            "_model_module": "@jupyter-widgets/controls",
            "_model_module_version": "1.5.0",
            "_model_name": "DescriptionStyleModel",
            "_view_count": null,
            "_view_module": "@jupyter-widgets/base",
            "_view_module_version": "1.2.0",
            "_view_name": "StyleView",
            "description_width": ""
          }
        },
        "1b59563752d44758ae961e5291fdbb40": {
          "model_module": "@jupyter-widgets/base",
          "model_name": "LayoutModel",
          "model_module_version": "1.2.0",
          "state": {
            "_model_module": "@jupyter-widgets/base",
            "_model_module_version": "1.2.0",
            "_model_name": "LayoutModel",
            "_view_count": null,
            "_view_module": "@jupyter-widgets/base",
            "_view_module_version": "1.2.0",
            "_view_name": "LayoutView",
            "align_content": null,
            "align_items": null,
            "align_self": null,
            "border": null,
            "bottom": null,
            "display": null,
            "flex": "2",
            "flex_flow": null,
            "grid_area": null,
            "grid_auto_columns": null,
            "grid_auto_flow": null,
            "grid_auto_rows": null,
            "grid_column": null,
            "grid_gap": null,
            "grid_row": null,
            "grid_template_areas": null,
            "grid_template_columns": null,
            "grid_template_rows": null,
            "height": null,
            "justify_content": null,
            "justify_items": null,
            "left": null,
            "margin": null,
            "max_height": null,
            "max_width": null,
            "min_height": null,
            "min_width": null,
            "object_fit": null,
            "object_position": null,
            "order": null,
            "overflow": null,
            "overflow_x": null,
            "overflow_y": null,
            "padding": null,
            "right": null,
            "top": null,
            "visibility": null,
            "width": null
          }
        },
        "4cba0159a45e43be85e698210c811883": {
          "model_module": "@jupyter-widgets/controls",
          "model_name": "ProgressStyleModel",
          "model_module_version": "1.5.0",
          "state": {
            "_model_module": "@jupyter-widgets/controls",
            "_model_module_version": "1.5.0",
            "_model_name": "ProgressStyleModel",
            "_view_count": null,
            "_view_module": "@jupyter-widgets/base",
            "_view_module_version": "1.2.0",
            "_view_name": "StyleView",
            "bar_color": null,
            "description_width": ""
          }
        },
        "3f5c2724a2314d5ab8074163129e50a8": {
          "model_module": "@jupyter-widgets/base",
          "model_name": "LayoutModel",
          "model_module_version": "1.2.0",
          "state": {
            "_model_module": "@jupyter-widgets/base",
            "_model_module_version": "1.2.0",
            "_model_name": "LayoutModel",
            "_view_count": null,
            "_view_module": "@jupyter-widgets/base",
            "_view_module_version": "1.2.0",
            "_view_name": "LayoutView",
            "align_content": null,
            "align_items": null,
            "align_self": null,
            "border": null,
            "bottom": null,
            "display": null,
            "flex": null,
            "flex_flow": null,
            "grid_area": null,
            "grid_auto_columns": null,
            "grid_auto_flow": null,
            "grid_auto_rows": null,
            "grid_column": null,
            "grid_gap": null,
            "grid_row": null,
            "grid_template_areas": null,
            "grid_template_columns": null,
            "grid_template_rows": null,
            "height": null,
            "justify_content": null,
            "justify_items": null,
            "left": null,
            "margin": null,
            "max_height": null,
            "max_width": null,
            "min_height": null,
            "min_width": null,
            "object_fit": null,
            "object_position": null,
            "order": null,
            "overflow": null,
            "overflow_x": null,
            "overflow_y": null,
            "padding": null,
            "right": null,
            "top": null,
            "visibility": null,
            "width": null
          }
        },
        "cab5de185d554ab1be0d018b077291f8": {
          "model_module": "@jupyter-widgets/controls",
          "model_name": "DescriptionStyleModel",
          "model_module_version": "1.5.0",
          "state": {
            "_model_module": "@jupyter-widgets/controls",
            "_model_module_version": "1.5.0",
            "_model_name": "DescriptionStyleModel",
            "_view_count": null,
            "_view_module": "@jupyter-widgets/base",
            "_view_module_version": "1.2.0",
            "_view_name": "StyleView",
            "description_width": ""
          }
        }
      }
    }
  },
  "cells": [
    {
      "cell_type": "markdown",
      "source": [
        "## Installing Required libraries\n",
        "Step 1.1- Please refer to the \"Technical Requirements\" section in the book for the neccessary packages to be installed. Please note that chapter has differnt Pytorch Lightning version and thus diff torch dependancies. Some functions may not work with other versions than what is tested below, so please ensure correct versions."
      ],
      "metadata": {
        "id": "TSkXO2Z63YSL"
      }
    },
    {
      "cell_type": "code",
      "execution_count": 1,
      "metadata": {
        "colab": {
          "base_uri": "https://localhost:8080/"
        },
        "id": "ohvuIsj33Gvy",
        "outputId": "d2d65a5c-add4-4b4b-d024-80bdeb5c171f"
      },
      "outputs": [
        {
          "output_type": "stream",
          "name": "stdout",
          "text": [
            "\u001b[K     |██████████████████████████████▎ | 834.1 MB 1.1 MB/s eta 0:00:43tcmalloc: large alloc 1147494400 bytes == 0x3a70c000 @  0x7f498fd3c615 0x592b76 0x4df71e 0x59afff 0x515655 0x549576 0x593fce 0x548ae9 0x51566f 0x549576 0x593fce 0x548ae9 0x5127f1 0x598e3b 0x511f68 0x598e3b 0x511f68 0x598e3b 0x511f68 0x4bc98a 0x532e76 0x594b72 0x515600 0x549576 0x593fce 0x548ae9 0x5127f1 0x549576 0x593fce 0x5118f8 0x593dd7\n",
            "\u001b[K     |████████████████████████████████| 881.9 MB 16 kB/s \n",
            "\u001b[K     |████████████████████████████████| 23.3 MB 7.7 MB/s \n",
            "\u001b[K     |████████████████████████████████| 8.0 MB 41.0 MB/s \n",
            "\u001b[K     |████████████████████████████████| 2.9 MB 50.3 MB/s \n",
            "\u001b[K     |████████████████████████████████| 1.0 MB 8.6 MB/s \n",
            "\u001b[K     |████████████████████████████████| 419 kB 47.5 MB/s \n",
            "\u001b[K     |████████████████████████████████| 829 kB 49.8 MB/s \n",
            "\u001b[?25h  Building wheel for future (setup.py) ... \u001b[?25l\u001b[?25hdone\n"
          ]
        }
      ],
      "source": [
        "#refer to book for correct version of package and import here\n",
        "!pip install torch==1.10.0 torchvision==0.11.1 torchtext==0.11.0 torchaudio==0.10.0 --quiet\n",
        "!pip install pytorch-lightning==1.5.2 --quiet"
      ]
    },
    {
      "cell_type": "markdown",
      "source": [
        "## Step 1.2 Import the neccessary packages.\n",
        "Please refer to the section, Importing the packages in the book for further details."
      ],
      "metadata": {
        "id": "ifNlVjhx3h5S"
      }
    },
    {
      "cell_type": "code",
      "source": [
        "import torch\n",
        "from torch import nn, optim\n",
        "from torch.autograd import Variable\n",
        "import pytorch_lightning as pl\n",
        "from pytorch_lightning.callbacks import ModelCheckpoint\n",
        "from torch.utils.data import DataLoader\n",
        "from torchmetrics.functional import accuracy"
      ],
      "metadata": {
        "id": "gr-sWCN83cRo"
      },
      "execution_count": 2,
      "outputs": []
    },
    {
      "cell_type": "code",
      "source": [
        "print(\"torch version:\",torch.__version__)\n",
        "print(\"pytorch ligthening version:\",pl.__version__)"
      ],
      "metadata": {
        "colab": {
          "base_uri": "https://localhost:8080/"
        },
        "id": "SOpCmvmm3nby",
        "outputId": "fb78c089-a7eb-49f9-cfa4-71946b0eca03"
      },
      "execution_count": 3,
      "outputs": [
        {
          "output_type": "stream",
          "name": "stdout",
          "text": [
            "torch version: 1.10.0+cu102\n",
            "pytorch ligthening version: 1.5.2\n"
          ]
        }
      ]
    },
    {
      "cell_type": "code",
      "source": [
        "xor_input = [Variable(torch.Tensor([0, 0])),\n",
        "           Variable(torch.Tensor([0, 1])),\n",
        "           Variable(torch.Tensor([1, 0])),\n",
        "           Variable(torch.Tensor([1, 1]))]"
      ],
      "metadata": {
        "id": "RMQJSBpB3u2I"
      },
      "execution_count": 4,
      "outputs": []
    },
    {
      "cell_type": "code",
      "source": [
        "xor_target = [Variable(torch.Tensor([0])),\n",
        "           Variable(torch.Tensor([1])),\n",
        "           Variable(torch.Tensor([1])),\n",
        "           Variable(torch.Tensor([0]))]"
      ],
      "metadata": {
        "id": "-6wtZQHF3vZq"
      },
      "execution_count": 5,
      "outputs": []
    },
    {
      "cell_type": "code",
      "source": [
        "xor_data = list(zip(xor_input, xor_target))\n",
        "train_loader = DataLoader(xor_data, batch_size=1000)"
      ],
      "metadata": {
        "id": "MgcghD7R3xXH"
      },
      "execution_count": 6,
      "outputs": []
    },
    {
      "cell_type": "code",
      "source": [
        "class XORModel(pl.LightningModule):\n",
        "  def __init__(self):\n",
        "\n",
        "    super(XORModel,self).__init__()\n",
        "    \n",
        "    self.input_layer = nn.Linear(2, 4)\n",
        "    self.output_layer = nn.Linear(4,1)\n",
        "\n",
        "    self.sigmoid = nn.Sigmoid()\n",
        "\n",
        "    self.loss = nn.MSELoss()\n",
        "\n",
        "  def forward(self, input):\n",
        "    #print(\"INPUT:\", input.shape)\n",
        "    x = self.input_layer(input)\n",
        "    #print(\"FIRST:\", x.shape)\n",
        "    x = self.sigmoid(x)\n",
        "    #print(\"SECOND:\", x.shape)\n",
        "    output = self.output_layer(x)\n",
        "    #print(\"THIRD:\", output.shape)\n",
        "    return output\n",
        "\n",
        "  def configure_optimizers(self):\n",
        "    params = self.parameters()\n",
        "    optimizer = optim.Adam(params=params, lr = 0.01)\n",
        "    return optimizer\n",
        "\n",
        "  def training_step(self, batch, batch_idx):\n",
        "    xor_input, xor_target = batch\n",
        "    #print(\"XOR INPUT:\", xor_input.shape)\n",
        "    #print(\"XOR TARGET:\", xor_target.shape)\n",
        "    outputs = self(xor_input) \n",
        "    #print(\"XOR OUTPUT:\", outputs.shape)\n",
        "    loss = self.loss(outputs, xor_target)\n",
        "    return loss "
      ],
      "metadata": {
        "id": "rVwp371G3zaw"
      },
      "execution_count": 7,
      "outputs": []
    },
    {
      "cell_type": "code",
      "source": [
        "from pytorch_lightning.utilities.types import TRAIN_DATALOADERS\n",
        "checkpoint_callback = ModelCheckpoint()\n",
        "model = XORModel()\n",
        "\n",
        "trainer = pl.Trainer(max_epochs=500, callbacks=[checkpoint_callback])\n",
        "\n",
        "trainer.fit(model, train_dataloaders=train_loader)"
      ],
      "metadata": {
        "colab": {
          "base_uri": "https://localhost:8080/",
          "height": 375,
          "referenced_widgets": [
            "a158df27d5a745c7a54d17f1d0188055",
            "18f82aba0dd940d9ade8502c4aa0825d",
            "46d29ca58a444cf681f358b7c21cbcee",
            "23b5b06785db44029c0791136d093449",
            "f1c68223b6164162a387ea128d3ead71",
            "1c8f008dd41b49e3918c8e70d9ce62b4",
            "10609142fc6f48878f05f8a61705b859",
            "1b59563752d44758ae961e5291fdbb40",
            "4cba0159a45e43be85e698210c811883",
            "3f5c2724a2314d5ab8074163129e50a8",
            "cab5de185d554ab1be0d018b077291f8"
          ]
        },
        "id": "RyglUeCb332C",
        "outputId": "3fff7d1e-bab4-4f52-eba5-352e3ef0866d"
      },
      "execution_count": 8,
      "outputs": [
        {
          "output_type": "stream",
          "name": "stderr",
          "text": [
            "INFO:pytorch_lightning.utilities.distributed:GPU available: False, used: False\n",
            "INFO:pytorch_lightning.utilities.distributed:TPU available: False, using: 0 TPU cores\n",
            "INFO:pytorch_lightning.utilities.distributed:IPU available: False, using: 0 IPUs\n",
            "INFO:pytorch_lightning.callbacks.model_summary:\n",
            "  | Name         | Type    | Params\n",
            "-----------------------------------------\n",
            "0 | input_layer  | Linear  | 12    \n",
            "1 | output_layer | Linear  | 5     \n",
            "2 | sigmoid      | Sigmoid | 0     \n",
            "3 | loss         | MSELoss | 0     \n",
            "-----------------------------------------\n",
            "17        Trainable params\n",
            "0         Non-trainable params\n",
            "17        Total params\n",
            "0.000     Total estimated model params size (MB)\n",
            "/usr/local/lib/python3.7/dist-packages/pytorch_lightning/trainer/data_loading.py:407: UserWarning: The number of training samples (1) is smaller than the logging interval Trainer(log_every_n_steps=50). Set a lower value for log_every_n_steps if you want to see logs for the training epoch.\n",
            "  f\"The number of training samples ({self.num_training_batches}) is smaller than the logging interval\"\n"
          ]
        },
        {
          "output_type": "display_data",
          "data": {
            "text/plain": [
              "Training: 0it [00:00, ?it/s]"
            ],
            "application/vnd.jupyter.widget-view+json": {
              "version_major": 2,
              "version_minor": 0,
              "model_id": "a158df27d5a745c7a54d17f1d0188055"
            }
          },
          "metadata": {}
        }
      ]
    },
    {
      "cell_type": "code",
      "source": [
        "ls lightning_logs/"
      ],
      "metadata": {
        "colab": {
          "base_uri": "https://localhost:8080/"
        },
        "id": "lbin1ePe36BH",
        "outputId": "a396a379-f2c7-46e7-e1f2-b65bbaa8adf0"
      },
      "execution_count": 9,
      "outputs": [
        {
          "output_type": "stream",
          "name": "stdout",
          "text": [
            "\u001b[0m\u001b[01;34mversion_0\u001b[0m/\n"
          ]
        }
      ]
    },
    {
      "cell_type": "code",
      "source": [
        "print(checkpoint_callback.best_model_path)"
      ],
      "metadata": {
        "colab": {
          "base_uri": "https://localhost:8080/"
        },
        "id": "LVX4w3UO4GcI",
        "outputId": "8a37c20c-99db-410e-e214-d3cd918f8403"
      },
      "execution_count": 10,
      "outputs": [
        {
          "output_type": "stream",
          "name": "stdout",
          "text": [
            "/content/lightning_logs/version_0/checkpoints/epoch=499-step=499.ckpt\n"
          ]
        }
      ]
    },
    {
      "cell_type": "code",
      "source": [
        "print(checkpoint_callback.best_model_path)\n",
        "train_model = model.load_from_checkpoint(checkpoint_callback.best_model_path)\n",
        "test = torch.utils.data.DataLoader(xor_input, batch_size=1)\n",
        "for val in xor_input:\n",
        "  _ = train_model(val)\n",
        "  print([int(val[0]),int(val[1])], int(_.round()))"
      ],
      "metadata": {
        "colab": {
          "base_uri": "https://localhost:8080/"
        },
        "id": "a6noVMNoBkll",
        "outputId": "c890eb02-89c6-4e69-8591-2bfa12e19c8e"
      },
      "execution_count": 12,
      "outputs": [
        {
          "output_type": "stream",
          "name": "stdout",
          "text": [
            "/content/lightning_logs/version_0/checkpoints/epoch=499-step=499.ckpt\n",
            "[0, 0] 0\n",
            "[0, 1] 1\n",
            "[1, 0] 1\n",
            "[1, 1] 0\n"
          ]
        }
      ]
    },
    {
      "cell_type": "code",
      "source": [
        "print(checkpoint_callback.best_model_path)\n",
        "train_model = model.load_from_checkpoint(checkpoint_callback.best_model_path)\n",
        "total_accuracy = []\n",
        "for xor_input, xor_target in train_loader:\n",
        "  for i in range(100):\n",
        "    output_tensor = train_model(xor_input)\n",
        "    test_accuracy = accuracy(output_tensor, xor_target.int())\n",
        "    total_accuracy.append(test_accuracy)\n",
        "total_accuracy = torch.mean(torch.stack(total_accuracy))\n",
        "print(\"TOTAL ACCURACY FOR 100 ITERATIONS: \", total_accuracy.item())"
      ],
      "metadata": {
        "id": "jl-RnDuGB5Iv",
        "outputId": "7b56acdf-9597-46a9-c67f-dc3921da1bd6",
        "colab": {
          "base_uri": "https://localhost:8080/"
        }
      },
      "execution_count": 13,
      "outputs": [
        {
          "output_type": "stream",
          "name": "stdout",
          "text": [
            "/content/lightning_logs/version_0/checkpoints/epoch=499-step=499.ckpt\n",
            "TOTAL ACCURACY FOR 100 ITERATIONS:  1.0\n"
          ]
        }
      ]
    }
  ]
}